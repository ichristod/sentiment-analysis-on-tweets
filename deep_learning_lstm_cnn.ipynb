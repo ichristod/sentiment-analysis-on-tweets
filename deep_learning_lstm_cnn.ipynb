{
  "nbformat": 4,
  "nbformat_minor": 5,
  "metadata": {
    "kernelspec": {
      "name": "python3",
      "language": "python",
      "display_name": "Python 3"
    },
    "language_info": {
      "codemirror_mode": {
        "name": "ipython",
        "version": 3
      },
      "file_extension": ".py",
      "mimetype": "text/x-python",
      "name": "python",
      "nbconvert_exporter": "python",
      "pygments_lexer": "ipython3",
      "version": "3.8.3"
    },
    "colab": {
      "name": "deep-learning-lstm-cnn",
      "provenance": [],
      "collapsed_sections": []
    }
  },
  "cells": [
    {
      "cell_type": "code",
      "metadata": {
        "colab": {
          "base_uri": "https://localhost:8080/",
          "height": 258
        },
        "id": "po4C-niMCfZy",
        "outputId": "40381df3-b35e-4c89-8156-a77fd8fb98af"
      },
      "source": [
        "import pandas as pd\n",
        "import numpy as  np\n",
        "import matplotlib as plt\n",
        "\n",
        "%tensorflow_version 2.x\n",
        "\n",
        "df_encoding = \"utf-8\"\n",
        "\n",
        "from google.colab import drive\n",
        "drive.mount('/content/drive')\n",
        "\n",
        "df = pd.read_csv(\"/content/drive/My Drive/deep-learning/cleaned-dataset.csv\", encoding=df_encoding)\n",
        "df = df.sample(frac=1, replace=True, random_state=1)\n",
        "\n",
        "# keep max length of words and sentences\n",
        "words_length = max(len(w) for w in df['tweets'])\n",
        "sentence_length = max(len(w.split(' ')) for w in df['tweets'])\n",
        "\n",
        "print(\"max chars in a tweet:\", words_length)\n",
        "print(\"max num of words in a tweet:\", sentence_length)\n",
        "\n",
        "df.head()"
      ],
      "id": "po4C-niMCfZy",
      "execution_count": null,
      "outputs": [
        {
          "output_type": "stream",
          "text": [
            "Mounted at /content/drive\n",
            "max chars in a tweet: 140\n",
            "max num of words in a tweet: 40\n"
          ],
          "name": "stdout"
        },
        {
          "output_type": "execute_result",
          "data": {
            "text/html": [
              "<div>\n",
              "<style scoped>\n",
              "    .dataframe tbody tr th:only-of-type {\n",
              "        vertical-align: middle;\n",
              "    }\n",
              "\n",
              "    .dataframe tbody tr th {\n",
              "        vertical-align: top;\n",
              "    }\n",
              "\n",
              "    .dataframe thead th {\n",
              "        text-align: right;\n",
              "    }\n",
              "</style>\n",
              "<table border=\"1\" class=\"dataframe\">\n",
              "  <thead>\n",
              "    <tr style=\"text-align: right;\">\n",
              "      <th></th>\n",
              "      <th>sentiment</th>\n",
              "      <th>tweets</th>\n",
              "    </tr>\n",
              "  </thead>\n",
              "  <tbody>\n",
              "    <tr>\n",
              "      <th>128037</th>\n",
              "      <td>1</td>\n",
              "      <td>well that would be interesting but i thought y...</td>\n",
              "    </tr>\n",
              "    <tr>\n",
              "      <th>491755</th>\n",
              "      <td>0</td>\n",
              "      <td>i feel the same too</td>\n",
              "    </tr>\n",
              "    <tr>\n",
              "      <th>470924</th>\n",
              "      <td>0</td>\n",
              "      <td>hey joe wish i could watch it man but it aint ...</td>\n",
              "    </tr>\n",
              "    <tr>\n",
              "      <th>491263</th>\n",
              "      <td>0</td>\n",
              "      <td>shed be lke quotyou just got a phooonequot hah...</td>\n",
              "    </tr>\n",
              "    <tr>\n",
              "      <th>836489</th>\n",
              "      <td>1</td>\n",
              "      <td>thanks for the feedback</td>\n",
              "    </tr>\n",
              "  </tbody>\n",
              "</table>\n",
              "</div>"
            ],
            "text/plain": [
              "        sentiment                                             tweets\n",
              "128037          1  well that would be interesting but i thought y...\n",
              "491755          0                                i feel the same too\n",
              "470924          0  hey joe wish i could watch it man but it aint ...\n",
              "491263          0  shed be lke quotyou just got a phooonequot hah...\n",
              "836489          1                            thanks for the feedback"
            ]
          },
          "metadata": {
            "tags": []
          },
          "execution_count": 1
        }
      ]
    },
    {
      "cell_type": "markdown",
      "metadata": {
        "id": "AqbB813o8mgO"
      },
      "source": [
        "Config tensorflow with TPU"
      ],
      "id": "AqbB813o8mgO"
    },
    {
      "cell_type": "code",
      "metadata": {
        "colab": {
          "base_uri": "https://localhost:8080/"
        },
        "id": "Z3ZlWY3MnAd5",
        "outputId": "01643d6f-2d2a-4739-cd84-ac8690ec887e"
      },
      "source": [
        "import tensorflow as tf\n",
        "from tensorflow import keras\n",
        "import os\n",
        "\n",
        "\n",
        "use_tpu = True #@param {type:\"boolean\"}\n",
        "\n",
        "if use_tpu:\n",
        "    assert 'COLAB_TPU_ADDR' in os.environ, 'Missing TPU; did you request a TPU in Notebook Settings?'\n",
        "\n",
        "if 'COLAB_TPU_ADDR' in os.environ:\n",
        "  TF_MASTER = 'grpc://{}'.format(os.environ['COLAB_TPU_ADDR'])\n",
        "else:\n",
        "  TF_MASTER=''\n",
        "\n",
        "# TPU address\n",
        "tpu_address = TF_MASTER\n",
        "\n",
        "resolver = tf.distribute.cluster_resolver.TPUClusterResolver(TF_MASTER)\n",
        "tf.config.experimental_connect_to_cluster(resolver)\n",
        "tf.tpu.experimental.initialize_tpu_system(resolver)\n",
        "strategy = tf.distribute.experimental.TPUStrategy(resolver)"
      ],
      "id": "Z3ZlWY3MnAd5",
      "execution_count": null,
      "outputs": [
        {
          "output_type": "stream",
          "text": [
            "INFO:tensorflow:Initializing the TPU system: grpc://10.78.6.194:8470\n"
          ],
          "name": "stdout"
        },
        {
          "output_type": "stream",
          "text": [
            "INFO:tensorflow:Initializing the TPU system: grpc://10.78.6.194:8470\n"
          ],
          "name": "stderr"
        },
        {
          "output_type": "stream",
          "text": [
            "INFO:tensorflow:Clearing out eager caches\n"
          ],
          "name": "stdout"
        },
        {
          "output_type": "stream",
          "text": [
            "INFO:tensorflow:Clearing out eager caches\n"
          ],
          "name": "stderr"
        },
        {
          "output_type": "stream",
          "text": [
            "INFO:tensorflow:Finished initializing TPU system.\n"
          ],
          "name": "stdout"
        },
        {
          "output_type": "stream",
          "text": [
            "INFO:tensorflow:Finished initializing TPU system.\n",
            "WARNING:absl:`tf.distribute.experimental.TPUStrategy` is deprecated, please use  the non experimental symbol `tf.distribute.TPUStrategy` instead.\n"
          ],
          "name": "stderr"
        },
        {
          "output_type": "stream",
          "text": [
            "INFO:tensorflow:Found TPU system:\n"
          ],
          "name": "stdout"
        },
        {
          "output_type": "stream",
          "text": [
            "INFO:tensorflow:Found TPU system:\n"
          ],
          "name": "stderr"
        },
        {
          "output_type": "stream",
          "text": [
            "INFO:tensorflow:*** Num TPU Cores: 8\n"
          ],
          "name": "stdout"
        },
        {
          "output_type": "stream",
          "text": [
            "INFO:tensorflow:*** Num TPU Cores: 8\n"
          ],
          "name": "stderr"
        },
        {
          "output_type": "stream",
          "text": [
            "INFO:tensorflow:*** Num TPU Workers: 1\n"
          ],
          "name": "stdout"
        },
        {
          "output_type": "stream",
          "text": [
            "INFO:tensorflow:*** Num TPU Workers: 1\n"
          ],
          "name": "stderr"
        },
        {
          "output_type": "stream",
          "text": [
            "INFO:tensorflow:*** Num TPU Cores Per Worker: 8\n"
          ],
          "name": "stdout"
        },
        {
          "output_type": "stream",
          "text": [
            "INFO:tensorflow:*** Num TPU Cores Per Worker: 8\n"
          ],
          "name": "stderr"
        },
        {
          "output_type": "stream",
          "text": [
            "INFO:tensorflow:*** Available Device: _DeviceAttributes(/job:localhost/replica:0/task:0/device:CPU:0, CPU, 0, 0)\n"
          ],
          "name": "stdout"
        },
        {
          "output_type": "stream",
          "text": [
            "INFO:tensorflow:*** Available Device: _DeviceAttributes(/job:localhost/replica:0/task:0/device:CPU:0, CPU, 0, 0)\n"
          ],
          "name": "stderr"
        },
        {
          "output_type": "stream",
          "text": [
            "INFO:tensorflow:*** Available Device: _DeviceAttributes(/job:worker/replica:0/task:0/device:CPU:0, CPU, 0, 0)\n"
          ],
          "name": "stdout"
        },
        {
          "output_type": "stream",
          "text": [
            "INFO:tensorflow:*** Available Device: _DeviceAttributes(/job:worker/replica:0/task:0/device:CPU:0, CPU, 0, 0)\n"
          ],
          "name": "stderr"
        },
        {
          "output_type": "stream",
          "text": [
            "INFO:tensorflow:*** Available Device: _DeviceAttributes(/job:worker/replica:0/task:0/device:TPU:0, TPU, 0, 0)\n"
          ],
          "name": "stdout"
        },
        {
          "output_type": "stream",
          "text": [
            "INFO:tensorflow:*** Available Device: _DeviceAttributes(/job:worker/replica:0/task:0/device:TPU:0, TPU, 0, 0)\n"
          ],
          "name": "stderr"
        },
        {
          "output_type": "stream",
          "text": [
            "INFO:tensorflow:*** Available Device: _DeviceAttributes(/job:worker/replica:0/task:0/device:TPU:1, TPU, 0, 0)\n"
          ],
          "name": "stdout"
        },
        {
          "output_type": "stream",
          "text": [
            "INFO:tensorflow:*** Available Device: _DeviceAttributes(/job:worker/replica:0/task:0/device:TPU:1, TPU, 0, 0)\n"
          ],
          "name": "stderr"
        },
        {
          "output_type": "stream",
          "text": [
            "INFO:tensorflow:*** Available Device: _DeviceAttributes(/job:worker/replica:0/task:0/device:TPU:2, TPU, 0, 0)\n"
          ],
          "name": "stdout"
        },
        {
          "output_type": "stream",
          "text": [
            "INFO:tensorflow:*** Available Device: _DeviceAttributes(/job:worker/replica:0/task:0/device:TPU:2, TPU, 0, 0)\n"
          ],
          "name": "stderr"
        },
        {
          "output_type": "stream",
          "text": [
            "INFO:tensorflow:*** Available Device: _DeviceAttributes(/job:worker/replica:0/task:0/device:TPU:3, TPU, 0, 0)\n"
          ],
          "name": "stdout"
        },
        {
          "output_type": "stream",
          "text": [
            "INFO:tensorflow:*** Available Device: _DeviceAttributes(/job:worker/replica:0/task:0/device:TPU:3, TPU, 0, 0)\n"
          ],
          "name": "stderr"
        },
        {
          "output_type": "stream",
          "text": [
            "INFO:tensorflow:*** Available Device: _DeviceAttributes(/job:worker/replica:0/task:0/device:TPU:4, TPU, 0, 0)\n"
          ],
          "name": "stdout"
        },
        {
          "output_type": "stream",
          "text": [
            "INFO:tensorflow:*** Available Device: _DeviceAttributes(/job:worker/replica:0/task:0/device:TPU:4, TPU, 0, 0)\n"
          ],
          "name": "stderr"
        },
        {
          "output_type": "stream",
          "text": [
            "INFO:tensorflow:*** Available Device: _DeviceAttributes(/job:worker/replica:0/task:0/device:TPU:5, TPU, 0, 0)\n"
          ],
          "name": "stdout"
        },
        {
          "output_type": "stream",
          "text": [
            "INFO:tensorflow:*** Available Device: _DeviceAttributes(/job:worker/replica:0/task:0/device:TPU:5, TPU, 0, 0)\n"
          ],
          "name": "stderr"
        },
        {
          "output_type": "stream",
          "text": [
            "INFO:tensorflow:*** Available Device: _DeviceAttributes(/job:worker/replica:0/task:0/device:TPU:6, TPU, 0, 0)\n"
          ],
          "name": "stdout"
        },
        {
          "output_type": "stream",
          "text": [
            "INFO:tensorflow:*** Available Device: _DeviceAttributes(/job:worker/replica:0/task:0/device:TPU:6, TPU, 0, 0)\n"
          ],
          "name": "stderr"
        },
        {
          "output_type": "stream",
          "text": [
            "INFO:tensorflow:*** Available Device: _DeviceAttributes(/job:worker/replica:0/task:0/device:TPU:7, TPU, 0, 0)\n"
          ],
          "name": "stdout"
        },
        {
          "output_type": "stream",
          "text": [
            "INFO:tensorflow:*** Available Device: _DeviceAttributes(/job:worker/replica:0/task:0/device:TPU:7, TPU, 0, 0)\n"
          ],
          "name": "stderr"
        },
        {
          "output_type": "stream",
          "text": [
            "INFO:tensorflow:*** Available Device: _DeviceAttributes(/job:worker/replica:0/task:0/device:TPU_SYSTEM:0, TPU_SYSTEM, 0, 0)\n"
          ],
          "name": "stdout"
        },
        {
          "output_type": "stream",
          "text": [
            "INFO:tensorflow:*** Available Device: _DeviceAttributes(/job:worker/replica:0/task:0/device:TPU_SYSTEM:0, TPU_SYSTEM, 0, 0)\n"
          ],
          "name": "stderr"
        },
        {
          "output_type": "stream",
          "text": [
            "INFO:tensorflow:*** Available Device: _DeviceAttributes(/job:worker/replica:0/task:0/device:XLA_CPU:0, XLA_CPU, 0, 0)\n"
          ],
          "name": "stdout"
        },
        {
          "output_type": "stream",
          "text": [
            "INFO:tensorflow:*** Available Device: _DeviceAttributes(/job:worker/replica:0/task:0/device:XLA_CPU:0, XLA_CPU, 0, 0)\n"
          ],
          "name": "stderr"
        }
      ]
    },
    {
      "cell_type": "markdown",
      "metadata": {
        "id": "f4j6vpRdCfZ5"
      },
      "source": [
        "## Define usefull functions\n"
      ],
      "id": "f4j6vpRdCfZ5"
    },
    {
      "cell_type": "code",
      "metadata": {
        "id": "zj1QR5v8CfZ6"
      },
      "source": [
        "def create_subsets(dataset, features, labels, num_classes, train_size=0, valid_size=0, test_size=0):\n",
        "    \n",
        "    subsets = {}\n",
        "    \n",
        "    # Define a size for your train set \n",
        "    train_n = int(train_size * len(dataset))\n",
        "    valid_n = int(valid_size * len(dataset))\n",
        "    test_n = int(test_size * len(dataset))\n",
        "    \n",
        "    # train_test split\n",
        "    subsets['X_train'] = dataset[features][:train_n]\n",
        "    subsets['X_valid'] = dataset[features][train_n:train_n+valid_n]\n",
        "    subsets['X_test'] = dataset[features][train_n+valid_n:train_n+valid_n+test_n]\n",
        "\n",
        "    subsets['Y_train'] = dataset[labels][:train_n]\n",
        "    subsets['Y_valid'] = dataset[labels][train_n:train_n+valid_n]\n",
        "    subsets['Y_test'] = dataset[labels][train_n+valid_n:train_n+valid_n+test_n]\n",
        "    \n",
        "    return subsets\n",
        "\n",
        "def words_to_sequences(max_sentence_length, subsets):\n",
        "    seq_subsets = {}\n",
        "    vocab_size = 0\n",
        "    global tokenizer \n",
        "    tokenizer = Tokenizer()\n",
        "    for key, value in subsets.items():\n",
        "        if key.startswith('X'):\n",
        "            # create vocabulary based on word frequency\n",
        "            #   -word_counts: Dictionary of words and their corresponding counts.\n",
        "            #   -word_docs: Dictionary of words and their corresponding documents appeared in.\n",
        "            #   -word_index: Dictionary of words and their uniquely assigned integers.\n",
        "            #   -document_count: Count of the total number of documents that were used to fit the Tokenizer.\n",
        "            if key.startswith('X_train'):\n",
        "                tokenizer.fit_on_texts(list(value))\n",
        "            \n",
        "            # texts_to_sequences assigns integers to words for each document\n",
        "            sequence = tokenizer.texts_to_sequences(value)\n",
        "            # padding to prepare sequences of same length\n",
        "            sequence = pad_sequences(sequence, maxlen = max_sentence_length)\n",
        "            seq_subsets[key] = sequence\n",
        "            \n",
        "            if len(tokenizer.word_index) > vocab_size:\n",
        "                vocab_size = len(tokenizer.word_index)\n",
        "\n",
        "    return seq_subsets, vocab_size+1;"
      ],
      "id": "zj1QR5v8CfZ6",
      "execution_count": null,
      "outputs": []
    },
    {
      "cell_type": "code",
      "metadata": {
        "id": "g5M0D16BCfZ-"
      },
      "source": [
        "from keras.preprocessing.text import Tokenizer\n",
        "from keras.preprocessing.sequence import pad_sequences\n",
        "from sklearn.model_selection import train_test_split\n",
        "from tensorflow.keras.utils import to_categorical\n",
        "from collections import defaultdict\n",
        "\n",
        "features = 'tweets'\n",
        "labels = 'sentiment'\n",
        "\n",
        "#create appropriate subsets\n",
        "initial_subsets = create_subsets(dataset=df, features=features, labels=labels, \n",
        "                   train_size=0.6, valid_size=0.2, test_size=0.2, num_classes=2)\n",
        "\n",
        "# convert features (text) to sequences\n",
        "seq_subsets, vocab_size = words_to_sequences(sentence_length, subsets=initial_subsets)"
      ],
      "id": "g5M0D16BCfZ-",
      "execution_count": null,
      "outputs": []
    },
    {
      "cell_type": "markdown",
      "metadata": {
        "id": "q0zpDyPBCfZ_"
      },
      "source": [
        "## Load Glove"
      ],
      "id": "q0zpDyPBCfZ_"
    },
    {
      "cell_type": "code",
      "metadata": {
        "id": "4Fw8_KnsQYZC"
      },
      "source": [
        "EMBED_DIM = 300\n",
        "\n",
        "glove_dict = dict()\n",
        "f = open('/content/drive/My Drive/deep-learning/glove.840B.300d.txt', encoding=\"utf8\")\n",
        "for line in f:\n",
        "    values = line.split()\n",
        "    word = ''.join(values[:-300])\n",
        "    if word in tokenizer.word_index:\n",
        "      coefs = np.asarray(values[-300:], dtype='float32')\n",
        "      glove_dict[word] = coefs\n",
        "f.close()"
      ],
      "id": "4Fw8_KnsQYZC",
      "execution_count": null,
      "outputs": []
    },
    {
      "cell_type": "code",
      "metadata": {
        "id": "UiKZ-uGyRXZ8",
        "colab": {
          "base_uri": "https://localhost:8080/"
        },
        "outputId": "5067ad21-fc06-47e8-e49a-95eb433af8dc"
      },
      "source": [
        "print('Loaded %s word vectors.' % len(glove_dict))"
      ],
      "id": "UiKZ-uGyRXZ8",
      "execution_count": null,
      "outputs": [
        {
          "output_type": "stream",
          "text": [
            "Loaded 82908 word vectors.\n"
          ],
          "name": "stdout"
        }
      ]
    },
    {
      "cell_type": "markdown",
      "metadata": {
        "id": "rme3XJxQCfZ_"
      },
      "source": [
        "## Create Embedding Matrix "
      ],
      "id": "rme3XJxQCfZ_"
    },
    {
      "cell_type": "code",
      "metadata": {
        "id": "Gu2KwrPnCfaB"
      },
      "source": [
        "# weight matrix of words in tweets\n",
        "embedding_matrix = np.zeros((vocab_size, EMBED_DIM))\n",
        "\n",
        "for word, i in tokenizer.word_index.items():\n",
        "    embedding_vector = glove_dict.get(word)\n",
        "    if embedding_vector is not None:\n",
        "        embedding_matrix[i] = embedding_vector\n",
        "    \n"
      ],
      "id": "Gu2KwrPnCfaB",
      "execution_count": null,
      "outputs": []
    },
    {
      "cell_type": "markdown",
      "metadata": {
        "id": "2wTbT6_y8Jvj"
      },
      "source": [
        "## Model training and evalutation "
      ],
      "id": "2wTbT6_y8Jvj"
    },
    {
      "cell_type": "markdown",
      "metadata": {
        "id": "oOhFF9hcS7OQ"
      },
      "source": [
        "### LSTM"
      ],
      "id": "oOhFF9hcS7OQ"
    },
    {
      "cell_type": "code",
      "metadata": {
        "scrolled": false,
        "id": "gg3huMM14haQ",
        "colab": {
          "base_uri": "https://localhost:8080/"
        },
        "outputId": "f1400446-f97a-4f50-bdd9-9854cc891cd0"
      },
      "source": [
        "from keras.models import Sequential\n",
        "from keras.layers import Dense, Activation, Embedding, Dropout, SpatialDropout1D\n",
        "from keras.layers import LSTM, Conv1D, MaxPooling1D, Bidirectional\n",
        "from keras.optimizers import Adam\n",
        "\n",
        "def get_model():\n",
        "  model = Sequential()\n",
        "\n",
        "  model.add(Embedding(input_dim=vocab_size, output_dim=EMBED_DIM, weights=[embedding_matrix], input_length=sentence_length, trainable=False))\n",
        "  model.add(Bidirectional(LSTM(128, return_sequences=True)))\n",
        "  model.add(Dropout(0.3))\n",
        "  model.add(Bidirectional(LSTM(128, return_sequences=True)))\n",
        "  model.add(Dropout(0.3))\n",
        "  model.add(LSTM(128))\n",
        "  model.add(Dense(64))\n",
        "  model.add(Dense(1, activation='sigmoid'))\n",
        "\n",
        "  return model\n",
        "\n",
        "\n",
        "with strategy.scope():\n",
        "  model = get_model()\n",
        "  model.compile(loss = 'binary_crossentropy', optimizer=Adam(), metrics = ['accuracy'])\n",
        "\n",
        "model.summary()"
      ],
      "id": "gg3huMM14haQ",
      "execution_count": null,
      "outputs": [
        {
          "output_type": "stream",
          "text": [
            "Model: \"sequential_2\"\n",
            "_________________________________________________________________\n",
            "Layer (type)                 Output Shape              Param #   \n",
            "=================================================================\n",
            "embedding_2 (Embedding)      (None, 40, 300)           61108800  \n",
            "_________________________________________________________________\n",
            "bidirectional_4 (Bidirection (None, 40, 256)           439296    \n",
            "_________________________________________________________________\n",
            "dropout_4 (Dropout)          (None, 40, 256)           0         \n",
            "_________________________________________________________________\n",
            "bidirectional_5 (Bidirection (None, 40, 256)           394240    \n",
            "_________________________________________________________________\n",
            "dropout_5 (Dropout)          (None, 40, 256)           0         \n",
            "_________________________________________________________________\n",
            "lstm_8 (LSTM)                (None, 128)               197120    \n",
            "_________________________________________________________________\n",
            "dense_4 (Dense)              (None, 64)                8256      \n",
            "_________________________________________________________________\n",
            "dense_5 (Dense)              (None, 1)                 65        \n",
            "=================================================================\n",
            "Total params: 62,147,777\n",
            "Trainable params: 1,038,977\n",
            "Non-trainable params: 61,108,800\n",
            "_________________________________________________________________\n"
          ],
          "name": "stdout"
        }
      ]
    },
    {
      "cell_type": "code",
      "metadata": {
        "id": "HMLaSyJBCfaB",
        "colab": {
          "base_uri": "https://localhost:8080/"
        },
        "outputId": "cf6a1be4-0282-449e-a0b7-4458d935cd20"
      },
      "source": [
        "import keras\n",
        "from matplotlib import pyplot as plt\n",
        "from keras.callbacks import EarlyStopping, ReduceLROnPlateau\n",
        "\n",
        "BATCH_SIZE=500\n",
        "\n",
        "callbacks = [ #ReduceLROnPlateau(monitor='val_loss', patience=5, min_delta=0.001, verbose=1),\n",
        "              EarlyStopping(monitor='val_loss', patience=6, restore_best_weights=True, verbose=1)]\n",
        "\n",
        "\n",
        "history = model.fit(seq_subsets['X_train'], initial_subsets['Y_train'], \n",
        "                    validation_data=(seq_subsets['X_valid'],initial_subsets['Y_valid']), shuffle=True, \n",
        "                    epochs=50, batch_size=BATCH_SIZE, callbacks=callbacks)\n"
      ],
      "id": "HMLaSyJBCfaB",
      "execution_count": null,
      "outputs": [
        {
          "output_type": "stream",
          "text": [
            "Epoch 1/50\n",
            "1916/1916 [==============================] - 126s 49ms/step - loss: 0.4634 - accuracy: 0.7780 - val_loss: 0.3954 - val_accuracy: 0.8204\n",
            "Epoch 2/50\n",
            "1916/1916 [==============================] - 84s 44ms/step - loss: 0.3841 - accuracy: 0.8266 - val_loss: 0.3638 - val_accuracy: 0.8382\n",
            "Epoch 3/50\n",
            "1916/1916 [==============================] - 85s 44ms/step - loss: 0.3487 - accuracy: 0.8466 - val_loss: 0.3444 - val_accuracy: 0.8495\n",
            "Epoch 4/50\n",
            "1916/1916 [==============================] - 86s 45ms/step - loss: 0.3154 - accuracy: 0.8647 - val_loss: 0.3296 - val_accuracy: 0.8597\n",
            "Epoch 5/50\n",
            "1916/1916 [==============================] - 85s 44ms/step - loss: 0.2830 - accuracy: 0.8819 - val_loss: 0.3185 - val_accuracy: 0.8689\n",
            "Epoch 6/50\n",
            "1916/1916 [==============================] - 85s 44ms/step - loss: 0.2516 - accuracy: 0.8979 - val_loss: 0.3101 - val_accuracy: 0.8767\n",
            "Epoch 7/50\n",
            "1916/1916 [==============================] - 85s 44ms/step - loss: 0.2252 - accuracy: 0.9107 - val_loss: 0.2998 - val_accuracy: 0.8846\n",
            "Epoch 8/50\n",
            "1916/1916 [==============================] - 85s 44ms/step - loss: 0.2029 - accuracy: 0.9214 - val_loss: 0.2966 - val_accuracy: 0.8899\n",
            "Epoch 9/50\n",
            "1916/1916 [==============================] - 85s 44ms/step - loss: 0.1832 - accuracy: 0.9299 - val_loss: 0.2944 - val_accuracy: 0.8938\n",
            "Epoch 10/50\n",
            "1916/1916 [==============================] - 85s 44ms/step - loss: 0.1679 - accuracy: 0.9369 - val_loss: 0.2956 - val_accuracy: 0.8981\n",
            "Epoch 11/50\n",
            "1916/1916 [==============================] - 86s 45ms/step - loss: 0.1533 - accuracy: 0.9432 - val_loss: 0.2965 - val_accuracy: 0.9013\n",
            "Epoch 12/50\n",
            "1916/1916 [==============================] - 85s 44ms/step - loss: 0.1406 - accuracy: 0.9485 - val_loss: 0.2947 - val_accuracy: 0.9036\n",
            "Epoch 13/50\n",
            "1916/1916 [==============================] - 85s 44ms/step - loss: 0.1319 - accuracy: 0.9520 - val_loss: 0.3025 - val_accuracy: 0.9044\n",
            "Epoch 14/50\n",
            "1916/1916 [==============================] - 85s 44ms/step - loss: 0.1228 - accuracy: 0.9554 - val_loss: 0.2969 - val_accuracy: 0.9078\n",
            "Epoch 15/50\n",
            "1916/1916 [==============================] - 85s 44ms/step - loss: 0.1151 - accuracy: 0.9584 - val_loss: 0.2984 - val_accuracy: 0.9097\n",
            "Restoring model weights from the end of the best epoch.\n",
            "Epoch 00015: early stopping\n"
          ],
          "name": "stdout"
        }
      ]
    },
    {
      "cell_type": "code",
      "metadata": {
        "id": "KMvb_T8tCfaB",
        "colab": {
          "base_uri": "https://localhost:8080/",
          "height": 295
        },
        "outputId": "861b9f9b-d473-4b28-dab5-306e3ee07416"
      },
      "source": [
        "plt.subplot(1, 2, 1)\n",
        "plt.plot(history.history['accuracy'])\n",
        "plt.plot(history.history['val_accuracy'])\n",
        "plt.title('model accuracy')\n",
        "plt.ylabel('accuracy')\n",
        "plt.xlabel('epoch')\n",
        "plt.legend(['train', 'val'], loc='upper left')\n",
        "\n",
        "plt.subplot(1, 2, 2)\n",
        "plt.plot(history.history['loss'])\n",
        "plt.plot(history.history['val_loss'])\n",
        "plt.title('model loss')\n",
        "plt.ylabel('loss')\n",
        "plt.xlabel('epoch')\n",
        "plt.legend(['train', 'val'], loc='upper left')\n",
        "\n",
        "plt.show()"
      ],
      "id": "KMvb_T8tCfaB",
      "execution_count": null,
      "outputs": [
        {
          "output_type": "display_data",
          "data": {
            "image/png": "[encoded data removed]",
            "text/plain": [
              "<Figure size 432x288 with 2 Axes>"
            ]
          },
          "metadata": {
            "tags": [],
            "needs_background": "light"
          }
        }
      ]
    },
    {
      "cell_type": "code",
      "metadata": {
        "id": "HWaGGvC6CfaC",
        "colab": {
          "base_uri": "https://localhost:8080/"
        },
        "outputId": "4b52186f-087e-4b8f-f357-fa995cade02e"
      },
      "source": [
        "model.evaluate(seq_subsets['X_test'], initial_subsets['Y_test'], batch_size=BATCH_SIZE)"
      ],
      "id": "HWaGGvC6CfaC",
      "execution_count": null,
      "outputs": [
        {
          "output_type": "stream",
          "text": [
            "639/639 [==============================] - 15s 22ms/step - loss: 0.2962 - accuracy: 0.8936\n"
          ],
          "name": "stdout"
        },
        {
          "output_type": "execute_result",
          "data": {
            "text/plain": [
              "[0.2961875796318054, 0.8936060070991516]"
            ]
          },
          "metadata": {
            "tags": []
          },
          "execution_count": 16
        }
      ]
    },
    {
      "cell_type": "code",
      "metadata": {
        "id": "VFAEEuCFYmSA"
      },
      "source": [
        "y_pred = (model.predict(seq_subsets['X_test']) > 0.5).astype(\"int32\")"
      ],
      "id": "VFAEEuCFYmSA",
      "execution_count": null,
      "outputs": []
    },
    {
      "cell_type": "code",
      "metadata": {
        "id": "4SpG6Q6BZeZH",
        "colab": {
          "base_uri": "https://localhost:8080/"
        },
        "outputId": "5486249f-179a-49c9-daef-bad385046979"
      },
      "source": [
        "from sklearn.metrics import classification_report, confusion_matrix\n",
        "\n",
        "print(confusion_matrix(initial_subsets['Y_test'], y_pred))\n",
        "print(classification_report(initial_subsets['Y_test'], y_pred, labels=[0, 1], target_names=['Negative', 'Positive']))"
      ],
      "id": "4SpG6Q6BZeZH",
      "execution_count": null,
      "outputs": [
        {
          "output_type": "stream",
          "text": [
            "[[143387  16208]\n",
            " [ 17762 141928]]\n",
            "              precision    recall  f1-score   support\n",
            "\n",
            "    Negative       0.89      0.90      0.89    159595\n",
            "    Positive       0.90      0.89      0.89    159690\n",
            "\n",
            "    accuracy                           0.89    319285\n",
            "   macro avg       0.89      0.89      0.89    319285\n",
            "weighted avg       0.89      0.89      0.89    319285\n",
            "\n"
          ],
          "name": "stdout"
        }
      ]
    },
    {
      "cell_type": "markdown",
      "metadata": {
        "id": "QhWoIsimS-jz"
      },
      "source": [
        "### CNN"
      ],
      "id": "QhWoIsimS-jz"
    },
    {
      "cell_type": "code",
      "metadata": {
        "id": "E2j6jEiG93TM",
        "colab": {
          "base_uri": "https://localhost:8080/"
        },
        "outputId": "e3a43224-d282-4eee-bd47-f16935286099"
      },
      "source": [
        "from keras.models import Sequential\n",
        "from keras.layers import Dense, Activation, Embedding, Dropout, SpatialDropout1D\n",
        "from keras.layers import LSTM, Conv1D, MaxPooling1D, Bidirectional, Flatten\n",
        "from keras.optimizers import Adam\n",
        "import keras\n",
        "from matplotlib import pyplot as plt\n",
        "from keras.callbacks import EarlyStopping, ReduceLROnPlateau\n",
        "\n",
        "def get_model_cnn():\n",
        "  model_cnn = Sequential()\n",
        "\n",
        "  model_cnn.add(Embedding(input_dim=vocab_size, output_dim=EMBED_DIM, weights=[embedding_matrix], input_length=sentence_length, trainable=False))\n",
        "  model_cnn.add(Conv1D(filters=32, kernel_size=32, activation='relu'))\n",
        "  model_cnn.add(MaxPooling1D(pool_size=2, padding='same'))\n",
        "  model_cnn.add(Flatten())\n",
        "  model_cnn.add(Dense(10, activation='relu'))\n",
        "  model_cnn.add(Dense(1, activation='sigmoid'))\n",
        "\n",
        "  return model_cnn\n",
        "\n",
        "\n",
        "with strategy.scope():\n",
        "  model_cnn = get_model_cnn()\n",
        "  optimizer = Adam()#(learning_rate=0.01)\n",
        "  model_cnn.compile(loss = 'binary_crossentropy', optimizer=optimizer, metrics = ['accuracy'])\n",
        "\n",
        "\n",
        "model_cnn.summary()"
      ],
      "id": "E2j6jEiG93TM",
      "execution_count": null,
      "outputs": [
        {
          "output_type": "stream",
          "text": [
            "Model: \"sequential_5\"\n",
            "_________________________________________________________________\n",
            "Layer (type)                 Output Shape              Param #   \n",
            "=================================================================\n",
            "embedding_5 (Embedding)      (None, 40, 300)           61108800  \n",
            "_________________________________________________________________\n",
            "conv1d_5 (Conv1D)            (None, 9, 32)             307232    \n",
            "_________________________________________________________________\n",
            "max_pooling1d_5 (MaxPooling1 (None, 5, 32)             0         \n",
            "_________________________________________________________________\n",
            "flatten_4 (Flatten)          (None, 160)               0         \n",
            "_________________________________________________________________\n",
            "dense_10 (Dense)             (None, 10)                1610      \n",
            "_________________________________________________________________\n",
            "dense_11 (Dense)             (None, 1)                 11        \n",
            "=================================================================\n",
            "Total params: 61,417,653\n",
            "Trainable params: 308,853\n",
            "Non-trainable params: 61,108,800\n",
            "_________________________________________________________________\n"
          ],
          "name": "stdout"
        }
      ]
    },
    {
      "cell_type": "code",
      "metadata": {
        "id": "6sZGYoGB9uZ5",
        "colab": {
          "base_uri": "https://localhost:8080/"
        },
        "outputId": "944cb7f4-0adb-4abb-ac4d-bd17b6312570"
      },
      "source": [
        "BATCH_SIZE=500\n",
        "\n",
        "callbacks = [ #ReduceLROnPlateau(monitor='val_loss', patience=5, min_delta=0.001, verbose=1),\n",
        "              EarlyStopping(monitor='val_loss', patience=6, restore_best_weights=True, verbose=1)]\n",
        "\n",
        "\n",
        "history_cnn = model_cnn.fit(seq_subsets['X_train'], initial_subsets['Y_train'], \n",
        "                    validation_data=(seq_subsets['X_valid'], initial_subsets['Y_valid']), shuffle=True, \n",
        "                    epochs=50, batch_size=BATCH_SIZE, callbacks=callbacks)"
      ],
      "id": "6sZGYoGB9uZ5",
      "execution_count": null,
      "outputs": [
        {
          "output_type": "stream",
          "text": [
            "Epoch 1/50\n",
            "1916/1916 [==============================] - 54s 26ms/step - loss: 0.4938 - accuracy: 0.7569 - val_loss: 0.4241 - val_accuracy: 0.8040\n",
            "Epoch 2/50\n",
            "1916/1916 [==============================] - 46s 24ms/step - loss: 0.4042 - accuracy: 0.8163 - val_loss: 0.4038 - val_accuracy: 0.8177\n",
            "Epoch 3/50\n",
            "1916/1916 [==============================] - 47s 24ms/step - loss: 0.3627 - accuracy: 0.8407 - val_loss: 0.3909 - val_accuracy: 0.8278\n",
            "Epoch 4/50\n",
            "1916/1916 [==============================] - 46s 24ms/step - loss: 0.3318 - accuracy: 0.8567 - val_loss: 0.3842 - val_accuracy: 0.8340\n",
            "Epoch 5/50\n",
            "1916/1916 [==============================] - 47s 24ms/step - loss: 0.3077 - accuracy: 0.8690 - val_loss: 0.3821 - val_accuracy: 0.8387\n",
            "Epoch 6/50\n",
            "1916/1916 [==============================] - 47s 24ms/step - loss: 0.2890 - accuracy: 0.8790 - val_loss: 0.3814 - val_accuracy: 0.8440\n",
            "Epoch 7/50\n",
            "1916/1916 [==============================] - 46s 24ms/step - loss: 0.2734 - accuracy: 0.8865 - val_loss: 0.3787 - val_accuracy: 0.8471\n",
            "Epoch 8/50\n",
            "1916/1916 [==============================] - 47s 24ms/step - loss: 0.2618 - accuracy: 0.8919 - val_loss: 0.3825 - val_accuracy: 0.8494\n",
            "Epoch 9/50\n",
            "1916/1916 [==============================] - 46s 24ms/step - loss: 0.2518 - accuracy: 0.8968 - val_loss: 0.3889 - val_accuracy: 0.8519\n",
            "Epoch 10/50\n",
            "1916/1916 [==============================] - 46s 24ms/step - loss: 0.2421 - accuracy: 0.9014 - val_loss: 0.3967 - val_accuracy: 0.8541\n",
            "Epoch 11/50\n",
            "1916/1916 [==============================] - 46s 24ms/step - loss: 0.2345 - accuracy: 0.9046 - val_loss: 0.3958 - val_accuracy: 0.8563\n",
            "Epoch 12/50\n",
            "1916/1916 [==============================] - 45s 24ms/step - loss: 0.2254 - accuracy: 0.9090 - val_loss: 0.4073 - val_accuracy: 0.8562\n",
            "Epoch 13/50\n",
            "1916/1916 [==============================] - 46s 24ms/step - loss: 0.2192 - accuracy: 0.9123 - val_loss: 0.4064 - val_accuracy: 0.8579\n",
            "Restoring model weights from the end of the best epoch.\n",
            "Epoch 00013: early stopping\n"
          ],
          "name": "stdout"
        }
      ]
    },
    {
      "cell_type": "code",
      "metadata": {
        "id": "-KVQUovXi03S",
        "colab": {
          "base_uri": "https://localhost:8080/",
          "height": 177
        },
        "outputId": "b0ea397d-2a6e-4c05-e514-b8c99a5ec230"
      },
      "source": [
        "plt.subplot(2, 2, 1)\n",
        "plt.plot(history_cnn.history['accuracy'])\n",
        "plt.plot(history_cnn.history['val_accuracy'])\n",
        "plt.title('model accuracy')\n",
        "plt.ylabel('accuracy')\n",
        "plt.xlabel('epoch')\n",
        "plt.legend(['train', 'val'], loc='upper left')\n",
        "\n",
        "plt.subplot(2, 2, 2)\n",
        "plt.plot(history_cnn.history['loss'])\n",
        "plt.plot(history_cnn.history['val_loss'])\n",
        "plt.title('model loss')\n",
        "plt.ylabel('loss')\n",
        "plt.xlabel('epoch')\n",
        "plt.legend(['train', 'val'], loc='upper left')\n",
        "\n",
        "plt.show()"
      ],
      "id": "-KVQUovXi03S",
      "execution_count": null,
      "outputs": [
        {
          "output_type": "display_data",
          "data": {
            "image/png": "[encoded data removed]",
            "text/plain": [
              "<Figure size 432x288 with 2 Axes>"
            ]
          },
          "metadata": {
            "tags": [],
            "needs_background": "light"
          }
        }
      ]
    },
    {
      "cell_type": "code",
      "metadata": {
        "id": "7PlWMs8C_Qax",
        "colab": {
          "base_uri": "https://localhost:8080/"
        },
        "outputId": "5acea667-7850-4cb1-c30e-c7660e542a63"
      },
      "source": [
        "model_cnn.evaluate(seq_subsets['X_test'], initial_subsets['Y_test'], batch_size=BATCH_SIZE)"
      ],
      "id": "7PlWMs8C_Qax",
      "execution_count": null,
      "outputs": [
        {
          "output_type": "stream",
          "text": [
            "639/639 [==============================] - 13s 19ms/step - loss: 0.3805 - accuracy: 0.8462\n"
          ],
          "name": "stdout"
        },
        {
          "output_type": "execute_result",
          "data": {
            "text/plain": [
              "[0.3804706037044525, 0.84621262550354]"
            ]
          },
          "metadata": {
            "tags": []
          },
          "execution_count": 24
        }
      ]
    },
    {
      "cell_type": "markdown",
      "metadata": {
        "id": "Fk1L0OvK8a62"
      },
      "source": [
        "## Model save to drive"
      ],
      "id": "Fk1L0OvK8a62"
    },
    {
      "cell_type": "code",
      "metadata": {
        "id": "7AakfQrfCfaC",
        "colab": {
          "base_uri": "https://localhost:8080/"
        },
        "outputId": "03df12ed-160c-430d-b48c-29ebbbb15d99"
      },
      "source": [
        "# save model and architecture to single file\n",
        "model.save(\"/content/drive/My Drive/deep-learning/rnn_lstm.h5\")\n",
        "model_cnn.save(\"/content/drive/My Drive/deep-learning/cnn_embd.h5\")\n",
        "print(\"Saved models to disk\")"
      ],
      "id": "7AakfQrfCfaC",
      "execution_count": null,
      "outputs": [
        {
          "output_type": "stream",
          "text": [
            "Saved models to disk\n"
          ],
          "name": "stdout"
        }
      ]
    },
    {
      "cell_type": "markdown",
      "metadata": {
        "id": "W7_OqnTMrqaR"
      },
      "source": [
        "##Multinomial Naive Bayes"
      ],
      "id": "W7_OqnTMrqaR"
    },
    {
      "cell_type": "code",
      "metadata": {
        "id": "YbLOxmBnhkoW",
        "colab": {
          "base_uri": "https://localhost:8080/"
        },
        "outputId": "13fb257f-9f65-483e-d804-e0b39b085fc4"
      },
      "source": [
        "from sklearn.pipeline import Pipeline\n",
        "from sklearn.naive_bayes import MultinomialNB\n",
        "from sklearn.feature_extraction.text import CountVectorizer, TfidfTransformer\n",
        "from sklearn.metrics import classification_report\n",
        "\n",
        "score='f1_macro'\n",
        "\n",
        "pipe = Pipeline([('vect', CountVectorizer(ngram_range=(1, 2))),\n",
        "                     ('tfidf', TfidfTransformer(norm='l1',use_idf=False)),\n",
        "                     ('clf', MultinomialNB(alpha=0.1))])\n",
        "\n",
        "pipe.fit(initial_subsets['X_train'], initial_subsets['Y_train'])"
      ],
      "id": "YbLOxmBnhkoW",
      "execution_count": null,
      "outputs": [
        {
          "output_type": "execute_result",
          "data": {
            "text/plain": [
              "Pipeline(memory=None,\n",
              "         steps=[('vect',\n",
              "                 CountVectorizer(analyzer='word', binary=False,\n",
              "                                 decode_error='strict',\n",
              "                                 dtype=<class 'numpy.int64'>, encoding='utf-8',\n",
              "                                 input='content', lowercase=True, max_df=1.0,\n",
              "                                 max_features=None, min_df=1,\n",
              "                                 ngram_range=(1, 2), preprocessor=None,\n",
              "                                 stop_words=None, strip_accents=None,\n",
              "                                 token_pattern='(?u)\\\\b\\\\w\\\\w+\\\\b',\n",
              "                                 tokenizer=None, vocabulary=None)),\n",
              "                ('tfidf',\n",
              "                 TfidfTransformer(norm='l1', smooth_idf=True,\n",
              "                                  sublinear_tf=False, use_idf=False)),\n",
              "                ('clf',\n",
              "                 MultinomialNB(alpha=0.1, class_prior=None, fit_prior=True))],\n",
              "         verbose=False)"
            ]
          },
          "metadata": {
            "tags": []
          },
          "execution_count": 8
        }
      ]
    },
    {
      "cell_type": "code",
      "metadata": {
        "id": "H3N8Lgn5jdTr",
        "colab": {
          "base_uri": "https://localhost:8080/"
        },
        "outputId": "66f0d102-ed9f-4625-c3db-56ff4b5f52a0"
      },
      "source": [
        "print(classification_report(initial_subsets['Y_test'], pipe.predict(initial_subsets['X_test']), digits=4))"
      ],
      "id": "H3N8Lgn5jdTr",
      "execution_count": null,
      "outputs": [
        {
          "output_type": "stream",
          "text": [
            "              precision    recall  f1-score   support\n",
            "\n",
            "           0     0.8440    0.8846    0.8638    159595\n",
            "           1     0.8788    0.8366    0.8572    159690\n",
            "\n",
            "    accuracy                         0.8606    319285\n",
            "   macro avg     0.8614    0.8606    0.8605    319285\n",
            "weighted avg     0.8614    0.8606    0.8605    319285\n",
            "\n"
          ],
          "name": "stdout"
        }
      ]
    },
    {
      "cell_type": "code",
      "metadata": {
        "id": "D78AM1fFt2ty",
        "colab": {
          "base_uri": "https://localhost:8080/"
        },
        "outputId": "aeea1a1d-89c9-4378-f71a-c526f58c2c38"
      },
      "source": [
        "drive.flush_and_unmount()\n",
        "print('All changes made in this colab session should now be visible in Drive.')"
      ],
      "id": "D78AM1fFt2ty",
      "execution_count": null,
      "outputs": [
        {
          "output_type": "stream",
          "text": [
            "All changes made in this colab session should now be visible in Drive.\n"
          ],
          "name": "stdout"
        }
      ]
    }
  ]
}