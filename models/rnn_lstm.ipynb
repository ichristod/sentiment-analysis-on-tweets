{
 "cells": [
  {
   "cell_type": "code",
   "execution_count": 16,
   "metadata": {},
   "outputs": [
    {
     "data": {
      "text/html": [
       "<div>\n",
       "<style scoped>\n",
       "    .dataframe tbody tr th:only-of-type {\n",
       "        vertical-align: middle;\n",
       "    }\n",
       "\n",
       "    .dataframe tbody tr th {\n",
       "        vertical-align: top;\n",
       "    }\n",
       "\n",
       "    .dataframe thead th {\n",
       "        text-align: right;\n",
       "    }\n",
       "</style>\n",
       "<table border=\"1\" class=\"dataframe\">\n",
       "  <thead>\n",
       "    <tr style=\"text-align: right;\">\n",
       "      <th></th>\n",
       "      <th>sentiment</th>\n",
       "      <th>original_tweets</th>\n",
       "    </tr>\n",
       "  </thead>\n",
       "  <tbody>\n",
       "    <tr>\n",
       "      <th>128037</th>\n",
       "      <td>0</td>\n",
       "      <td>Oh really don't wanna be awake</td>\n",
       "    </tr>\n",
       "    <tr>\n",
       "      <th>491755</th>\n",
       "      <td>0</td>\n",
       "      <td>Trying to amuse my cousin. It's not working! a...</td>\n",
       "    </tr>\n",
       "    <tr>\n",
       "      <th>470924</th>\n",
       "      <td>0</td>\n",
       "      <td>@JonasAustralia  i wanted to win! congrats to ...</td>\n",
       "    </tr>\n",
       "    <tr>\n",
       "      <th>491263</th>\n",
       "      <td>0</td>\n",
       "      <td>That's it!! I can't take it no more!! After su...</td>\n",
       "    </tr>\n",
       "    <tr>\n",
       "      <th>836489</th>\n",
       "      <td>4</td>\n",
       "      <td>@beckybootsx i hope your not drinking alcohol!...</td>\n",
       "    </tr>\n",
       "  </tbody>\n",
       "</table>\n",
       "</div>"
      ],
      "text/plain": [
       "        sentiment                                    original_tweets\n",
       "128037          0                    Oh really don't wanna be awake \n",
       "491755          0  Trying to amuse my cousin. It's not working! a...\n",
       "470924          0  @JonasAustralia  i wanted to win! congrats to ...\n",
       "491263          0  That's it!! I can't take it no more!! After su...\n",
       "836489          4  @beckybootsx i hope your not drinking alcohol!..."
      ]
     },
     "execution_count": 16,
     "metadata": {},
     "output_type": "execute_result"
    }
   ],
   "source": [
    "from nltk.corpus import stopwords \n",
    "import pandas as pd\n",
    "import numpy as  np\n",
    "import matplotlib as plt\n",
    "import re\n",
    "import string\n",
    "\n",
    "#jupyter path\n",
    "cols = ['sentiment','id','date','query_string','user','original_tweets']\n",
    "df_encoding = \"latin-1\"\n",
    "\n",
    "df = pd.read_csv(\"training.1600000.processed.noemoticon.csv\",encoding =df_encoding, header=None, names=cols)\n",
    "df.drop(['id','date','query_string','user'],axis=1,inplace=True)\n",
    "df = df.sample(frac=1, replace=True, random_state=1)\n",
    "df.head()"
   ]
  },
  {
   "cell_type": "code",
   "execution_count": 17,
   "metadata": {},
   "outputs": [
    {
     "name": "stdout",
     "output_type": "stream",
     "text": [
      "name: \"/device:GPU:0\"\n",
      "device_type: \"GPU\"\n",
      "memory_limit: 2247832371\n",
      "locality {\n",
      "  bus_id: 1\n",
      "  links {\n",
      "  }\n",
      "}\n",
      "incarnation: 2371064379465048162\n",
      "physical_device_desc: \"device: 0, name: NVIDIA GeForce GTX 1650 with Max-Q Design, pci bus id: 0000:01:00.0, compute capability: 7.5\"\n",
      "\n"
     ]
    }
   ],
   "source": [
    "from tensorflow.python.client import device_lib\n",
    "physical_devices = device_lib.list_local_devices()\n",
    "print(physical_devices[1])"
   ]
  },
  {
   "cell_type": "code",
   "execution_count": 18,
   "metadata": {},
   "outputs": [
    {
     "name": "stdout",
     "output_type": "stream",
     "text": [
      "[name: \"/device:CPU:0\"\n",
      "device_type: \"CPU\"\n",
      "memory_limit: 268435456\n",
      "locality {\n",
      "}\n",
      "incarnation: 4657329765225457900\n",
      ", name: \"/device:GPU:0\"\n",
      "device_type: \"GPU\"\n",
      "memory_limit: 2247832371\n",
      "locality {\n",
      "  bus_id: 1\n",
      "  links {\n",
      "  }\n",
      "}\n",
      "incarnation: 5669628850416816940\n",
      "physical_device_desc: \"device: 0, name: NVIDIA GeForce GTX 1650 with Max-Q Design, pci bus id: 0000:01:00.0, compute capability: 7.5\"\n",
      "]\n"
     ]
    },
    {
     "data": {
      "text/plain": [
       "\"config = tf.ConfigProto( device_count = {'GPU': 1 , 'CPU': 56} ) \\nsess = tf.Session(config=config) \\nkeras.backend.set_session(sess)\""
      ]
     },
     "execution_count": 18,
     "metadata": {},
     "output_type": "execute_result"
    }
   ],
   "source": [
    "from tensorflow.python.client import device_lib\n",
    "print(device_lib.list_local_devices())\n",
    "import tensorflow as tf\n",
    "tf.compat.v1.enable_eager_execution()\n",
    "\n",
    "config = tf.compat.v1.ConfigProto(allow_soft_placement=True,device_count = {'GPU' : 1})\n",
    "config.gpu_options.allow_growth = True\n",
    "\n",
    "sess = tf.compat.v1.Session(config=config) \n",
    "tf.compat.v1.keras.backend.set_session(sess)\n",
    "\n",
    "\n",
    "\"\"\"config = tf.ConfigProto( device_count = {'GPU': 1 , 'CPU': 56} ) \n",
    "sess = tf.Session(config=config) \n",
    "keras.backend.set_session(sess)\"\"\""
   ]
  },
  {
   "cell_type": "markdown",
   "metadata": {},
   "source": [
    "## Define usefull functions\n"
   ]
  },
  {
   "cell_type": "code",
   "execution_count": 19,
   "metadata": {},
   "outputs": [
    {
     "name": "stderr",
     "output_type": "stream",
     "text": [
      "[nltk_data] Downloading package stopwords to\n",
      "[nltk_data]     C:\\Users\\ichristod\\AppData\\Roaming\\nltk_data...\n",
      "[nltk_data]   Package stopwords is already up-to-date!\n",
      "[nltk_data] Downloading package wordnet to\n",
      "[nltk_data]     C:\\Users\\ichristod\\AppData\\Roaming\\nltk_data...\n",
      "[nltk_data]   Package wordnet is already up-to-date!\n",
      "[nltk_data] Downloading package punkt to\n",
      "[nltk_data]     C:\\Users\\ichristod\\AppData\\Roaming\\nltk_data...\n",
      "[nltk_data]   Package punkt is already up-to-date!\n"
     ]
    }
   ],
   "source": [
    "import nltk\n",
    "#import spacy\n",
    "from nltk.stem import WordNetLemmatizer\n",
    "from nltk.corpus import stopwords \n",
    "\n",
    "nltk.download('stopwords')\n",
    "nltk.download('wordnet')\n",
    "nltk.download('punkt')\n",
    "lemmatizer = WordNetLemmatizer()\n",
    "\n",
    "# set stop words for english language\n",
    "stop_words = set(stopwords.words(\"english\"))\n",
    "\n",
    "# function to remove punctuation\n",
    "def remove_punctuations(text):\n",
    "    text = ''.join([c for c in text if c not in string.punctuation])\n",
    "    return text\n",
    "\n",
    "def remove_stopwords(text):\n",
    "\n",
    "    list_of_words = [word for word in text.split(' ') if word not in stop_words]\n",
    "    words_to_text = \" \".join(list_of_words)\n",
    "    return words_to_text\n",
    "\n",
    "def remove_numbers(text):\n",
    "    clear_text = ''.join([i for i in text if not i.isdigit()])\n",
    "    return clear_text\n",
    "\n",
    "def do_lem(text):\n",
    "    text = ' '.join([lemmatizer.lemmatize(w) for w in text.split(' ')])\n",
    "    return text\n",
    "\n",
    "\n",
    "def clean_text(text):    \n",
    "    # regex dictionary\n",
    "    regex = {\n",
    "        \"urls\": r\"(?i)\\b((?:https?://|www\\d{0,3}[.]|[a-z0-9.\\-]+[.][a-z]{2,4}/)(?:[^\\s()<>]+|\\(([^\\s()<>]+|(\\([^\\s()<>]+\\)))*\\))+(?:\\(([^\\s()<>]+|(\\([^\\s()<>]+\\)))*\\)|[^\\s`!()\\[\\]{};:'\\\".,<>?«»“”‘’]))\",\n",
    "        \"mentions\": r\"@[A-Za-z0-9]+\",\n",
    "        \"hashtags\": r\"#[A-Za-z0-9]+\",\n",
    "        \"whitespaces\": \"\\s+\"\n",
    "    }\n",
    "    text = str(text).lower()\n",
    "    text = re.sub(regex['urls'], '', text)\n",
    "    text = re.sub(regex['mentions'], '', text)\n",
    "    text = re.sub(regex['hashtags'], '', text)\n",
    "    text = remove_stopwords(text) \n",
    "    text = remove_punctuations(text)\n",
    "    text = remove_numbers(text)\n",
    "    text = re.sub(regex['whitespaces'], ' ', text).strip()\n",
    "    text = do_lem(text)\n",
    "\n",
    "    return text\n",
    "\n",
    "def create_subsets(dataset, features, labels, num_classes, train_size=0, valid_size=0, test_size=0):\n",
    "    subsets = {}\n",
    "    \n",
    "    # Define a size for your train set \n",
    "    train_n = int(train_size * len(dataset))\n",
    "    valid_n = int(valid_size * len(dataset))\n",
    "    test_n = int(test_size * len(dataset))\n",
    "    \n",
    "    #train_test split\n",
    "    subsets['X_train'] = dataset[features][:train_n]\n",
    "    subsets['X_valid'] = dataset[features][train_n:train_n+valid_n]\n",
    "    subsets['X_test'] = dataset[features][train_n+valid_n:train_n+valid_n+test_n]\n",
    "\n",
    "    # Categorically encode labels\n",
    "    subsets['Y_train'] = to_categorical(dataset[labels][:train_n].values, num_classes)\n",
    "    subsets['Y_valid'] = to_categorical(dataset[labels][train_n:train_n+valid_n].values, num_classes)\n",
    "    subsets['Y_test'] = to_categorical(dataset[labels][train_n+valid_n:train_n+valid_n+test_n].values, num_classes)\n",
    "    return subsets\n",
    "\n",
    "def words_to_sequences(max_sentence_length, subsets):\n",
    "    seq_subsets = {}\n",
    "    vocab_size = 0\n",
    "    global tokenizer \n",
    "    tokenizer = Tokenizer()\n",
    "    for key, value in subsets.items():\n",
    "        if key.startswith('X'):\n",
    "            # create vocabulary based on word frequency\n",
    "            #   -word_counts: Dictionary of words and their corresponding counts.\n",
    "            #   -word_docs: Dictionary of words and their corresponding documents appeared in.\n",
    "            #   -word_index: Dictionary of words and their uniquely assigned integers.\n",
    "            #   -document_count: Count of the total number of documents that were used to fit the Tokenizer.\n",
    "            if key.startswith('X_train'):\n",
    "                tokenizer.fit_on_texts(list(value))\n",
    "            \n",
    "            # texts_to_sequences assigns integers to words for each document\n",
    "            sequence = tokenizer.texts_to_sequences(value)\n",
    "            # padding to prepare sequences of same length\n",
    "            sequence = pad_sequences(sequence, maxlen = max_sentence_length)\n",
    "            seq_subsets[key] = sequence\n",
    "            \n",
    "            if len(tokenizer.word_index) > vocab_size:\n",
    "                vocab_size = len(tokenizer.word_index)\n",
    "\n",
    "    return seq_subsets, vocab_size+1;"
   ]
  },
  {
   "cell_type": "markdown",
   "metadata": {},
   "source": [
    "## Data Cleaning"
   ]
  },
  {
   "cell_type": "code",
   "execution_count": 20,
   "metadata": {
    "scrolled": false
   },
   "outputs": [
    {
     "name": "stdout",
     "output_type": "stream",
     "text": [
      "max chars in a tweet: 317\n",
      "max num of words in a tweet: 37\n"
     ]
    },
    {
     "data": {
      "text/html": [
       "<div>\n",
       "<style scoped>\n",
       "    .dataframe tbody tr th:only-of-type {\n",
       "        vertical-align: middle;\n",
       "    }\n",
       "\n",
       "    .dataframe tbody tr th {\n",
       "        vertical-align: top;\n",
       "    }\n",
       "\n",
       "    .dataframe thead th {\n",
       "        text-align: right;\n",
       "    }\n",
       "</style>\n",
       "<table border=\"1\" class=\"dataframe\">\n",
       "  <thead>\n",
       "    <tr style=\"text-align: right;\">\n",
       "      <th></th>\n",
       "      <th>sentiment</th>\n",
       "      <th>original_tweets</th>\n",
       "      <th>tweets</th>\n",
       "    </tr>\n",
       "  </thead>\n",
       "  <tbody>\n",
       "    <tr>\n",
       "      <th>128037</th>\n",
       "      <td>0</td>\n",
       "      <td>Oh really don't wanna be awake</td>\n",
       "      <td>oh really wanna awake</td>\n",
       "    </tr>\n",
       "    <tr>\n",
       "      <th>491755</th>\n",
       "      <td>0</td>\n",
       "      <td>Trying to amuse my cousin. It's not working! a...</td>\n",
       "      <td>trying amuse cousin working he playing halo wo</td>\n",
       "    </tr>\n",
       "    <tr>\n",
       "      <th>470924</th>\n",
       "      <td>0</td>\n",
       "      <td>@JonasAustralia  i wanted to win! congrats to ...</td>\n",
       "      <td>wanted win congrats anyways</td>\n",
       "    </tr>\n",
       "    <tr>\n",
       "      <th>491263</th>\n",
       "      <td>0</td>\n",
       "      <td>That's it!! I can't take it no more!! After su...</td>\n",
       "      <td>thats it cant take more summer school im talki...</td>\n",
       "    </tr>\n",
       "    <tr>\n",
       "      <th>836489</th>\n",
       "      <td>1</td>\n",
       "      <td>@beckybootsx i hope your not drinking alcohol!...</td>\n",
       "      <td>hope drinking alcohol lol</td>\n",
       "    </tr>\n",
       "    <tr>\n",
       "      <th>...</th>\n",
       "      <td>...</td>\n",
       "      <td>...</td>\n",
       "      <td>...</td>\n",
       "    </tr>\n",
       "    <tr>\n",
       "      <th>1053847</th>\n",
       "      <td>1</td>\n",
       "      <td>Breakfast with my mommy</td>\n",
       "      <td>breakfast mommy</td>\n",
       "    </tr>\n",
       "    <tr>\n",
       "      <th>992577</th>\n",
       "      <td>1</td>\n",
       "      <td>1 tut down, 123981 projects to go!!</td>\n",
       "      <td>tut down project go</td>\n",
       "    </tr>\n",
       "    <tr>\n",
       "      <th>275825</th>\n",
       "      <td>0</td>\n",
       "      <td>@melody1976 I'm jealous!!  I have 4 weeks to w...</td>\n",
       "      <td>im jealous week wait</td>\n",
       "    </tr>\n",
       "    <tr>\n",
       "      <th>501507</th>\n",
       "      <td>0</td>\n",
       "      <td>'s heart is aching</td>\n",
       "      <td>s heart aching</td>\n",
       "    </tr>\n",
       "    <tr>\n",
       "      <th>314240</th>\n",
       "      <td>0</td>\n",
       "      <td>just emptied out the bird box, 6 dead baby blu...</td>\n",
       "      <td>emptied bird box dead baby blue tit sad handfu...</td>\n",
       "    </tr>\n",
       "  </tbody>\n",
       "</table>\n",
       "<p>100 rows × 3 columns</p>\n",
       "</div>"
      ],
      "text/plain": [
       "         sentiment                                    original_tweets  \\\n",
       "128037           0                    Oh really don't wanna be awake    \n",
       "491755           0  Trying to amuse my cousin. It's not working! a...   \n",
       "470924           0  @JonasAustralia  i wanted to win! congrats to ...   \n",
       "491263           0  That's it!! I can't take it no more!! After su...   \n",
       "836489           1  @beckybootsx i hope your not drinking alcohol!...   \n",
       "...            ...                                                ...   \n",
       "1053847          1                           Breakfast with my mommy    \n",
       "992577           1               1 tut down, 123981 projects to go!!    \n",
       "275825           0  @melody1976 I'm jealous!!  I have 4 weeks to w...   \n",
       "501507           0                                's heart is aching    \n",
       "314240           0  just emptied out the bird box, 6 dead baby blu...   \n",
       "\n",
       "                                                    tweets  \n",
       "128037                               oh really wanna awake  \n",
       "491755      trying amuse cousin working he playing halo wo  \n",
       "470924                         wanted win congrats anyways  \n",
       "491263   thats it cant take more summer school im talki...  \n",
       "836489                           hope drinking alcohol lol  \n",
       "...                                                    ...  \n",
       "1053847                                    breakfast mommy  \n",
       "992577                                 tut down project go  \n",
       "275825                                im jealous week wait  \n",
       "501507                                      s heart aching  \n",
       "314240   emptied bird box dead baby blue tit sad handfu...  \n",
       "\n",
       "[100 rows x 3 columns]"
      ]
     },
     "execution_count": 20,
     "metadata": {},
     "output_type": "execute_result"
    }
   ],
   "source": [
    "# copy dataframe\n",
    "df_clean = df.copy(deep=True)\n",
    "\n",
    "# clean text\n",
    "df_clean['tweets'] = df_clean['original_tweets'].apply(clean_text)\n",
    "\n",
    "# transform labels\n",
    "df_clean['sentiment'] = df_clean['sentiment'].apply(lambda x: x if x<4 else 1)\n",
    "\n",
    "# keep max length of words and sentences\n",
    "words_length = max(len(w) for w in df_clean['tweets'])\n",
    "sentence_length = max(len(w.split(' ')) for w in df_clean['tweets'])\n",
    "\n",
    "print(\"max chars in a tweet:\", words_length)\n",
    "print(\"max num of words in a tweet:\", sentence_length)\n",
    "\n",
    "df_clean.head(100)"
   ]
  },
  {
   "cell_type": "code",
   "execution_count": 21,
   "metadata": {},
   "outputs": [
    {
     "data": {
      "text/html": [
       "<div>\n",
       "<style scoped>\n",
       "    .dataframe tbody tr th:only-of-type {\n",
       "        vertical-align: middle;\n",
       "    }\n",
       "\n",
       "    .dataframe tbody tr th {\n",
       "        vertical-align: top;\n",
       "    }\n",
       "\n",
       "    .dataframe thead th {\n",
       "        text-align: right;\n",
       "    }\n",
       "</style>\n",
       "<table border=\"1\" class=\"dataframe\">\n",
       "  <thead>\n",
       "    <tr style=\"text-align: right;\">\n",
       "      <th></th>\n",
       "      <th>sentiment</th>\n",
       "      <th>tweets</th>\n",
       "    </tr>\n",
       "  </thead>\n",
       "  <tbody>\n",
       "    <tr>\n",
       "      <th>0</th>\n",
       "      <td>0</td>\n",
       "      <td>oh really wanna awake</td>\n",
       "    </tr>\n",
       "    <tr>\n",
       "      <th>1</th>\n",
       "      <td>0</td>\n",
       "      <td>trying amuse cousin working he playing halo wo</td>\n",
       "    </tr>\n",
       "    <tr>\n",
       "      <th>2</th>\n",
       "      <td>0</td>\n",
       "      <td>wanted win congrats anyways</td>\n",
       "    </tr>\n",
       "    <tr>\n",
       "      <th>3</th>\n",
       "      <td>0</td>\n",
       "      <td>thats it cant take more summer school im talki...</td>\n",
       "    </tr>\n",
       "    <tr>\n",
       "      <th>4</th>\n",
       "      <td>1</td>\n",
       "      <td>hope drinking alcohol lol</td>\n",
       "    </tr>\n",
       "    <tr>\n",
       "      <th>...</th>\n",
       "      <td>...</td>\n",
       "      <td>...</td>\n",
       "    </tr>\n",
       "    <tr>\n",
       "      <th>1599995</th>\n",
       "      <td>0</td>\n",
       "      <td>even get free vegetable first day pick job</td>\n",
       "    </tr>\n",
       "    <tr>\n",
       "      <th>1599996</th>\n",
       "      <td>0</td>\n",
       "      <td>kathy amp sarah taking train philly interview ...</td>\n",
       "    </tr>\n",
       "    <tr>\n",
       "      <th>1599997</th>\n",
       "      <td>0</td>\n",
       "      <td>yeah hard done car truck much harder parent ri...</td>\n",
       "    </tr>\n",
       "    <tr>\n",
       "      <th>1599998</th>\n",
       "      <td>0</td>\n",
       "      <td>im u store need payment option all demo free a...</td>\n",
       "    </tr>\n",
       "    <tr>\n",
       "      <th>1599999</th>\n",
       "      <td>1</td>\n",
       "      <td>yay whole sookie stackhouse series book last a...</td>\n",
       "    </tr>\n",
       "  </tbody>\n",
       "</table>\n",
       "<p>1600000 rows × 2 columns</p>\n",
       "</div>"
      ],
      "text/plain": [
       "         sentiment                                             tweets\n",
       "0                0                              oh really wanna awake\n",
       "1                0     trying amuse cousin working he playing halo wo\n",
       "2                0                        wanted win congrats anyways\n",
       "3                0  thats it cant take more summer school im talki...\n",
       "4                1                          hope drinking alcohol lol\n",
       "...            ...                                                ...\n",
       "1599995          0         even get free vegetable first day pick job\n",
       "1599996          0  kathy amp sarah taking train philly interview ...\n",
       "1599997          0  yeah hard done car truck much harder parent ri...\n",
       "1599998          0  im u store need payment option all demo free a...\n",
       "1599999          1  yay whole sookie stackhouse series book last a...\n",
       "\n",
       "[1600000 rows x 2 columns]"
      ]
     },
     "execution_count": 21,
     "metadata": {},
     "output_type": "execute_result"
    }
   ],
   "source": [
    "# remove necessary columns & reset indexes\n",
    "df_clean.drop(['original_tweets'],axis=1,inplace=True)\n",
    "df_clean.reset_index(drop=True)"
   ]
  },
  {
   "cell_type": "code",
   "execution_count": 22,
   "metadata": {},
   "outputs": [],
   "source": [
    "from keras.preprocessing.text import Tokenizer\n",
    "from keras.preprocessing.sequence import pad_sequences\n",
    "from sklearn.model_selection import train_test_split\n",
    "from tensorflow.keras.utils import to_categorical\n",
    "from collections import defaultdict\n",
    "\n",
    "features = 'tweets'\n",
    "labels = 'sentiment'\n",
    "\n",
    "#create appropriate subsets\n",
    "initial_subsets = create_subsets(dataset=df_clean, features=features, labels=labels, \n",
    "                   train_size=0.6, valid_size=0.2, test_size=0.2, num_classes=2)\n",
    "\n",
    "# convert features (text) to sequences\n",
    "seq_subsets, vocab_size = words_to_sequences(sentence_length, subsets=initial_subsets)"
   ]
  },
  {
   "cell_type": "markdown",
   "metadata": {},
   "source": [
    "## Load Glove"
   ]
  },
  {
   "cell_type": "code",
   "execution_count": 23,
   "metadata": {},
   "outputs": [
    {
     "name": "stdout",
     "output_type": "stream",
     "text": [
      "Loaded 88621 word vectors.\n"
     ]
    }
   ],
   "source": [
    "# load the whole embedding into memory\n",
    "glove_dict = dict()\n",
    "f = open('glove.twitter.27B.50d.txt', encoding=\"utf8\")\n",
    "for line in f:\n",
    "    values = line.split()\n",
    "    word = values[0]\n",
    "    if word in tokenizer.word_index:\n",
    "        coefs = np.asarray(values[1:], dtype='float32')\n",
    "        glove_dict[word] = coefs\n",
    "f.close()\n",
    "\n",
    "print('Loaded %s word vectors.' % len(glove_dict))"
   ]
  },
  {
   "cell_type": "markdown",
   "metadata": {},
   "source": [
    "## Create Embedding Matrix "
   ]
  },
  {
   "cell_type": "code",
   "execution_count": 24,
   "metadata": {},
   "outputs": [],
   "source": [
    "# weight matrix of words in tweets\n",
    "embedding_matrix = np.zeros((vocab_size, 50))\n",
    "\n",
    "for word, i in tokenizer.word_index.items():\n",
    "    embedding_vector = glove_dict.get(word)\n",
    "    if embedding_vector is not None:\n",
    "        embedding_matrix[i] = embedding_vector\n",
    "    \n"
   ]
  },
  {
   "cell_type": "code",
   "execution_count": 25,
   "metadata": {
    "scrolled": false
   },
   "outputs": [
    {
     "name": "stdout",
     "output_type": "stream",
     "text": [
      "Model: \"sequential_1\"\n",
      "_________________________________________________________________\n",
      "Layer (type)                 Output Shape              Param #   \n",
      "=================================================================\n",
      "embedding_1 (Embedding)      (None, 37, 50)            11913800  \n",
      "_________________________________________________________________\n",
      "rnn_1 (RNN)                  (None, 100)               60400     \n",
      "_________________________________________________________________\n",
      "dropout_1 (Dropout)          (None, 100)               0         \n",
      "_________________________________________________________________\n",
      "dense_1 (Dense)              (None, 2)                 202       \n",
      "=================================================================\n",
      "Total params: 11,974,402\n",
      "Trainable params: 60,602\n",
      "Non-trainable params: 11,913,800\n",
      "_________________________________________________________________\n"
     ]
    }
   ],
   "source": [
    "from sklearn.preprocessing import LabelEncoder\n",
    "from keras.models import Sequential\n",
    "from keras.layers import Dense\n",
    "from keras.layers import RNN\n",
    "from keras.layers import Embedding\n",
    "from keras.layers import Dropout\n",
    "from keras.layers import LSTMCell \n",
    "\n",
    "embed_dim = 50\n",
    "lstm_out = 100\n",
    "\n",
    "model = Sequential()\n",
    "model.add(Embedding(input_dim=vocab_size,output_dim=50,weights=[embedding_matrix],input_length=sentence_length,trainable=False)) \n",
    "#model.add(LSTM(lstm_out, dropout=0.25,recurrent_dropout=0))\n",
    "model.add(RNN(LSTMCell(lstm_out)))\n",
    "model.add(Dropout(0.3))\n",
    "#model.add(GRU(100))\n",
    "model.add(Dense(2,activation='sigmoid'))\n",
    "model.compile(loss = 'binary_crossentropy', optimizer='adam',metrics = ['accuracy'])\n",
    "model.summary()"
   ]
  },
  {
   "cell_type": "code",
   "execution_count": 26,
   "metadata": {},
   "outputs": [
    {
     "name": "stdout",
     "output_type": "stream",
     "text": [
      "Epoch 1/50\n",
      "1920/1920 [==============================] - 174s 90ms/step - loss: 0.5413 - accuracy: 0.7222 - val_loss: 0.4859 - val_accuracy: 0.7615\n",
      "Epoch 2/50\n",
      "1920/1920 [==============================] - 176s 92ms/step - loss: 0.4805 - accuracy: 0.7665 - val_loss: 0.4681 - val_accuracy: 0.7733\n",
      "Epoch 3/50\n",
      "1920/1920 [==============================] - 170s 88ms/step - loss: 0.4681 - accuracy: 0.7740 - val_loss: 0.4624 - val_accuracy: 0.7776\n",
      "Epoch 4/50\n",
      "1920/1920 [==============================] - 168s 88ms/step - loss: 0.4589 - accuracy: 0.7801 - val_loss: 0.4570 - val_accuracy: 0.7811\n",
      "Epoch 5/50\n",
      "1920/1920 [==============================] - 167s 87ms/step - loss: 0.4529 - accuracy: 0.7840 - val_loss: 0.4560 - val_accuracy: 0.7828\n",
      "Epoch 6/50\n",
      "1920/1920 [==============================] - 170s 89ms/step - loss: 0.4466 - accuracy: 0.7881 - val_loss: 0.4483 - val_accuracy: 0.7862\n",
      "Epoch 7/50\n",
      "1920/1920 [==============================] - 174s 90ms/step - loss: 0.4419 - accuracy: 0.7909 - val_loss: 0.4480 - val_accuracy: 0.7867\n",
      "Epoch 8/50\n",
      "1920/1920 [==============================] - 161s 84ms/step - loss: 0.4365 - accuracy: 0.7936 - val_loss: 0.4442 - val_accuracy: 0.7885\n",
      "Epoch 9/50\n",
      "1920/1920 [==============================] - 171s 89ms/step - loss: 0.4332 - accuracy: 0.7962 - val_loss: 0.4435 - val_accuracy: 0.7897\n",
      "Epoch 10/50\n",
      "1920/1920 [==============================] - 171s 89ms/step - loss: 0.4297 - accuracy: 0.7979 - val_loss: 0.4427 - val_accuracy: 0.7900\n",
      "Epoch 11/50\n",
      "1920/1920 [==============================] - 172s 90ms/step - loss: 0.4254 - accuracy: 0.8009 - val_loss: 0.4406 - val_accuracy: 0.7912\n",
      "Epoch 12/50\n",
      "1920/1920 [==============================] - 161s 84ms/step - loss: 0.4222 - accuracy: 0.8028 - val_loss: 0.4398 - val_accuracy: 0.7929\n",
      "Epoch 13/50\n",
      "1920/1920 [==============================] - 157s 82ms/step - loss: 0.4189 - accuracy: 0.8046 - val_loss: 0.4387 - val_accuracy: 0.7933\n",
      "Epoch 14/50\n",
      "1920/1920 [==============================] - 156s 81ms/step - loss: 0.4140 - accuracy: 0.8079 - val_loss: 0.4382 - val_accuracy: 0.7939\n",
      "Epoch 15/50\n",
      "1920/1920 [==============================] - 156s 82ms/step - loss: 0.4112 - accuracy: 0.8099 - val_loss: 0.4431 - val_accuracy: 0.7927\n",
      "Epoch 16/50\n",
      "1920/1920 [==============================] - 157s 82ms/step - loss: 0.4095 - accuracy: 0.8103 - val_loss: 0.4386 - val_accuracy: 0.7947\n",
      "Epoch 17/50\n",
      "1920/1920 [==============================] - 158s 82ms/step - loss: 0.4059 - accuracy: 0.8121 - val_loss: 0.4417 - val_accuracy: 0.7936\n",
      "Epoch 18/50\n",
      "1920/1920 [==============================] - 158s 82ms/step - loss: 0.4020 - accuracy: 0.8148 - val_loss: 0.4401 - val_accuracy: 0.7943\n",
      "Epoch 19/50\n",
      "1920/1920 [==============================] - 156s 81ms/step - loss: 0.4002 - accuracy: 0.8156 - val_loss: 0.4387 - val_accuracy: 0.7951\n",
      "Epoch 20/50\n",
      "1920/1920 [==============================] - 156s 81ms/step - loss: 0.3976 - accuracy: 0.8177 - val_loss: 0.4424 - val_accuracy: 0.7942\n",
      "Epoch 21/50\n",
      "1920/1920 [==============================] - 158s 82ms/step - loss: 0.3943 - accuracy: 0.8194 - val_loss: 0.4414 - val_accuracy: 0.7951\n",
      "Epoch 22/50\n",
      "1920/1920 [==============================] - 158s 82ms/step - loss: 0.3923 - accuracy: 0.8205 - val_loss: 0.4399 - val_accuracy: 0.7951\n",
      "Epoch 00022: early stopping\n"
     ]
    }
   ],
   "source": [
    "import keras\n",
    "from matplotlib import pyplot as plt\n",
    "from keras.callbacks import EarlyStopping\n",
    "\n",
    "# early stopping\n",
    "es = EarlyStopping(monitor='val_loss', mode='min', verbose=1, patience=8)\n",
    "\n",
    "history = model.fit(seq_subsets['X_train'], initial_subsets['Y_train'],validation_data \n",
    "                    = (seq_subsets['X_valid'],initial_subsets['Y_valid']), shuffle=True, \n",
    "                    epochs = 50, batch_size=500, callbacks=[es])\n"
   ]
  },
  {
   "cell_type": "code",
   "execution_count": 27,
   "metadata": {},
   "outputs": [
    {
     "data": {
      "image/png": "[encoded data removed]",
      "text/plain": [
       "<Figure size 432x288 with 2 Axes>"
      ]
     },
     "metadata": {
      "needs_background": "light"
     },
     "output_type": "display_data"
    }
   ],
   "source": [
    "plt.subplot(1, 2, 1)\n",
    "plt.plot(history.history['accuracy'])\n",
    "plt.plot(history.history['val_accuracy'])\n",
    "plt.title('model accuracy')\n",
    "plt.ylabel('accuracy')\n",
    "plt.xlabel('epoch')\n",
    "plt.legend(['train', 'val'], loc='upper left')\n",
    "\n",
    "plt.subplot(1, 2, 2)\n",
    "plt.plot(history.history['loss'])\n",
    "plt.plot(history.history['val_loss'])\n",
    "plt.title('model loss')\n",
    "plt.ylabel('loss')\n",
    "plt.xlabel('epoch')\n",
    "plt.legend(['train', 'val'], loc='upper left')\n",
    "plt.show()"
   ]
  },
  {
   "cell_type": "code",
   "execution_count": 28,
   "metadata": {},
   "outputs": [
    {
     "name": "stdout",
     "output_type": "stream",
     "text": [
      "WARNING:tensorflow:From <ipython-input-28-134a680e0fb2>:5: is_gpu_available (from tensorflow.python.framework.test_util) is deprecated and will be removed in a future version.\n",
      "Instructions for updating:\n",
      "Use `tf.config.list_physical_devices('GPU')` instead.\n"
     ]
    },
    {
     "data": {
      "text/plain": [
       "True"
      ]
     },
     "execution_count": 28,
     "metadata": {},
     "output_type": "execute_result"
    }
   ],
   "source": [
    "import tensorflow as tf\n",
    "tf.config.list_physical_devices('GPU') # True/False\n",
    "\n",
    "# Or only check for gpu's with cuda support\n",
    "tf.test.is_gpu_available(cuda_only=True) "
   ]
  },
  {
   "cell_type": "code",
   "execution_count": 29,
   "metadata": {},
   "outputs": [
    {
     "name": "stdout",
     "output_type": "stream",
     "text": [
      "10000/10000 [==============================] - 251s 25ms/step - loss: 0.4418 - accuracy: 0.7947\n"
     ]
    },
    {
     "data": {
      "text/plain": [
       "[0.4417976140975952, 0.7947031259536743]"
      ]
     },
     "execution_count": 29,
     "metadata": {},
     "output_type": "execute_result"
    }
   ],
   "source": [
    "model.evaluate(seq_subsets['X_test'],initial_subsets['Y_test'])"
   ]
  },
  {
   "cell_type": "code",
   "execution_count": 30,
   "metadata": {},
   "outputs": [
    {
     "name": "stdout",
     "output_type": "stream",
     "text": [
      "Saved model to disk\n"
     ]
    }
   ],
   "source": [
    "# save model and architecture to single file\n",
    "model.save(\"rnn_lstm.h5\")\n",
    "print(\"Saved model to disk\")"
   ]
  },
  {
   "cell_type": "code",
   "execution_count": null,
   "metadata": {},
   "outputs": [],
   "source": []
  }
 ],
 "metadata": {
  "kernelspec": {
   "display_name": "sentiment",
   "language": "python",
   "name": "sentiment"
  },
  "language_info": {
   "codemirror_mode": {
    "name": "ipython",
    "version": 3
   },
   "file_extension": ".py",
   "mimetype": "text/x-python",
   "name": "python",
   "nbconvert_exporter": "python",
   "pygments_lexer": "ipython3",
   "version": "3.8.3"
  }
 },
 "nbformat": 4,
 "nbformat_minor": 5
}
